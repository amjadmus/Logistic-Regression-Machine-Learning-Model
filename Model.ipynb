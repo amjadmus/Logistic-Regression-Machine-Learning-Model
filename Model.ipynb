{
 "cells": [
  {
   "cell_type": "code",
   "execution_count": 1,
   "metadata": {},
   "outputs": [],
   "source": [
    "import tensorflow as tf\n",
    "import pandas as pd\n",
    "import numpy as np\n",
    "\n",
    "from sklearn.model_selection import train_test_split\n",
    "import sklearn\n",
    "import matplotlib.pyplot as plt\n"
   ]
  },
  {
   "cell_type": "code",
   "execution_count": null,
   "metadata": {
    "scrolled": true
   },
   "outputs": [],
   "source": []
  },
  {
   "cell_type": "code",
   "execution_count": 2,
   "metadata": {},
   "outputs": [],
   "source": [
    "df = pd.read_csv('completereview.csv',low_memory=False, index_col=0)\n",
    "df = df.reset_index(drop=True)"
   ]
  },
  {
   "cell_type": "code",
   "execution_count": null,
   "metadata": {},
   "outputs": [],
   "source": [
    "df # social, information, fairness"
   ]
  },
  {
   "cell_type": "code",
   "execution_count": null,
   "metadata": {},
   "outputs": [],
   "source": [
    "df.columns"
   ]
  },
  {
   "cell_type": "code",
   "execution_count": 5,
   "metadata": {},
   "outputs": [],
   "source": [
    "df = df.drop(columns = ['id','title','landlord_id','updated_at','body','visible','author_type','email','flagged','best_thing','worst_thing','cached_votes_score','cached_votes_up','cached_votes_down','cached_weighted_total','cached_weighted_average','deposit','complete'])"
   ]
  },
  {
   "cell_type": "code",
   "execution_count": null,
   "metadata": {},
   "outputs": [],
   "source": [
    "df.columns"
   ]
  },
  {
   "cell_type": "code",
   "execution_count": 7,
   "metadata": {},
   "outputs": [],
   "source": [
    "df = df.drop(columns = ['college_id','deposit_jusitified','created_at','cached_votes_total','cached_weighted_score', 'lease','rent'])\n"
   ]
  },
  {
   "cell_type": "code",
   "execution_count": 8,
   "metadata": {},
   "outputs": [
    {
     "data": {
      "text/plain": [
       "Index(['score', 'condition', 'responsiveness', 'respect', 'information',\n",
       "       'fairness', 'safety', 'recommend', 'author_id', 'pests', 'social'],\n",
       "      dtype='object')"
      ]
     },
     "execution_count": 8,
     "metadata": {},
     "output_type": "execute_result"
    }
   ],
   "source": [
    "df.columns"
   ]
  },
  {
   "cell_type": "code",
   "execution_count": 9,
   "metadata": {},
   "outputs": [],
   "source": [
    "df = df.drop(['author_id'], axis=1)"
   ]
  },
  {
   "cell_type": "code",
   "execution_count": 10,
   "metadata": {},
   "outputs": [],
   "source": [
    "df = df.drop(['fairness'],axis=1)"
   ]
  },
  {
   "cell_type": "code",
   "execution_count": 11,
   "metadata": {},
   "outputs": [
    {
     "data": {
      "text/plain": [
       "Index(['score', 'condition', 'responsiveness', 'respect', 'information',\n",
       "       'safety', 'recommend', 'pests', 'social'],\n",
       "      dtype='object')"
      ]
     },
     "execution_count": 11,
     "metadata": {},
     "output_type": "execute_result"
    }
   ],
   "source": [
    "df.columns"
   ]
  },
  {
   "cell_type": "code",
   "execution_count": 12,
   "metadata": {},
   "outputs": [],
   "source": [
    "rec_map = {False: 0, True: 1}\n",
    "\n",
    "df = df.replace({'recommend': rec_map})\n"
   ]
  },
  {
   "cell_type": "raw",
   "metadata": {
    "jupyter": {
     "outputs_hidden": true
    }
   },
   "source": [
    "df"
   ]
  },
  {
   "cell_type": "code",
   "execution_count": 13,
   "metadata": {},
   "outputs": [],
   "source": [
    "df = sklearn.utils.shuffle(df)\n",
    "X = df.drop(['recommend'], axis=1)\n",
    "y = df['recommend']"
   ]
  },
  {
   "cell_type": "code",
   "execution_count": 14,
   "metadata": {},
   "outputs": [],
   "source": [
    "from sklearn.preprocessing import StandardScaler\n",
    "sc = StandardScaler()"
   ]
  },
  {
   "cell_type": "code",
   "execution_count": 15,
   "metadata": {},
   "outputs": [
    {
     "data": {
      "text/plain": [
       "(15018, 8)"
      ]
     },
     "execution_count": 15,
     "metadata": {},
     "output_type": "execute_result"
    }
   ],
   "source": [
    "X.shape"
   ]
  },
  {
   "cell_type": "code",
   "execution_count": 16,
   "metadata": {},
   "outputs": [],
   "source": [
    "y = np.array(y)"
   ]
  },
  {
   "cell_type": "code",
   "execution_count": 17,
   "metadata": {},
   "outputs": [
    {
     "data": {
      "text/plain": [
       "array([1, 1, 1, ..., 1, 0, 0], dtype=int64)"
      ]
     },
     "execution_count": 17,
     "metadata": {},
     "output_type": "execute_result"
    }
   ],
   "source": [
    "y"
   ]
  },
  {
   "cell_type": "code",
   "execution_count": 18,
   "metadata": {},
   "outputs": [],
   "source": [
    "X_train, X_test, y_train, y_test = train_test_split(X,y, random_state=32, test_size=0.2)"
   ]
  },
  {
   "cell_type": "code",
   "execution_count": 19,
   "metadata": {},
   "outputs": [],
   "source": [
    "X_train = sc.fit_transform(X_train)\n",
    "X_test = sc.fit_transform(X_test)"
   ]
  },
  {
   "cell_type": "code",
   "execution_count": 20,
   "metadata": {},
   "outputs": [
    {
     "data": {
      "text/plain": [
       "(12014, 8)"
      ]
     },
     "execution_count": 20,
     "metadata": {},
     "output_type": "execute_result"
    }
   ],
   "source": [
    "X_train.shape"
   ]
  },
  {
   "cell_type": "code",
   "execution_count": 21,
   "metadata": {},
   "outputs": [],
   "source": [
    "model = tf.keras.models.Sequential([\n",
    "    tf.keras.layers.Input(shape=(8,)),\n",
    "    tf.keras.layers.Dense(10, activation='relu'),\n",
    "    tf.keras.layers.Dense(6, activation='relu'),\n",
    "    tf.keras.layers.Dense(1, activation='sigmoid')\n",
    "])"
   ]
  },
  {
   "cell_type": "code",
   "execution_count": 22,
   "metadata": {},
   "outputs": [],
   "source": [
    "model.compile(optimizer=tf.keras.optimizers.Adam(\n",
    "    learning_rate=0.001),\n",
    "             loss='binary_crossentropy',\n",
    "              metrics=['accuracy'])"
   ]
  },
  {
   "cell_type": "code",
   "execution_count": 23,
   "metadata": {},
   "outputs": [
    {
     "name": "stdout",
     "output_type": "stream",
     "text": [
      "Epoch 1/60\n",
      "165/165 [==============================] - 0s 1ms/step - loss: 0.6337 - accuracy: 0.6427 - val_loss: 0.5813 - val_accuracy: 0.7299\n",
      "Epoch 2/60\n",
      "165/165 [==============================] - 0s 544us/step - loss: 0.5388 - accuracy: 0.7487 - val_loss: 0.5341 - val_accuracy: 0.7410\n",
      "Epoch 3/60\n",
      "165/165 [==============================] - 0s 574us/step - loss: 0.5118 - accuracy: 0.7553 - val_loss: 0.5219 - val_accuracy: 0.7488\n",
      "Epoch 4/60\n",
      "165/165 [==============================] - 0s 549us/step - loss: 0.5025 - accuracy: 0.7611 - val_loss: 0.5154 - val_accuracy: 0.7587\n",
      "Epoch 5/60\n",
      "165/165 [==============================] - 0s 550us/step - loss: 0.4969 - accuracy: 0.7653 - val_loss: 0.5113 - val_accuracy: 0.7593\n",
      "Epoch 6/60\n",
      "165/165 [==============================] - 0s 520us/step - loss: 0.4933 - accuracy: 0.7674 - val_loss: 0.5071 - val_accuracy: 0.7610\n",
      "Epoch 7/60\n",
      "165/165 [==============================] - 0s 543us/step - loss: 0.4899 - accuracy: 0.7721 - val_loss: 0.5062 - val_accuracy: 0.7587\n",
      "Epoch 8/60\n",
      "165/165 [==============================] - 0s 511us/step - loss: 0.4878 - accuracy: 0.7714 - val_loss: 0.5024 - val_accuracy: 0.7615\n",
      "Epoch 9/60\n",
      "165/165 [==============================] - 0s 550us/step - loss: 0.4854 - accuracy: 0.7735 - val_loss: 0.5001 - val_accuracy: 0.7610\n",
      "Epoch 10/60\n",
      "165/165 [==============================] - 0s 532us/step - loss: 0.4837 - accuracy: 0.7766 - val_loss: 0.4975 - val_accuracy: 0.7654\n",
      "Epoch 11/60\n",
      "165/165 [==============================] - 0s 562us/step - loss: 0.4817 - accuracy: 0.7786 - val_loss: 0.4950 - val_accuracy: 0.7715\n",
      "Epoch 12/60\n",
      "165/165 [==============================] - 0s 496us/step - loss: 0.4800 - accuracy: 0.7804 - val_loss: 0.4935 - val_accuracy: 0.7737\n",
      "Epoch 13/60\n",
      "165/165 [==============================] - 0s 520us/step - loss: 0.4785 - accuracy: 0.7823 - val_loss: 0.4917 - val_accuracy: 0.7748\n",
      "Epoch 14/60\n",
      "165/165 [==============================] - 0s 513us/step - loss: 0.4770 - accuracy: 0.7836 - val_loss: 0.4906 - val_accuracy: 0.7754\n",
      "Epoch 15/60\n",
      "165/165 [==============================] - 0s 537us/step - loss: 0.4762 - accuracy: 0.7851 - val_loss: 0.4912 - val_accuracy: 0.7781\n",
      "Epoch 16/60\n",
      "165/165 [==============================] - 0s 580us/step - loss: 0.4750 - accuracy: 0.7854 - val_loss: 0.4894 - val_accuracy: 0.7754\n",
      "Epoch 17/60\n",
      "165/165 [==============================] - 0s 508us/step - loss: 0.4740 - accuracy: 0.7872 - val_loss: 0.4880 - val_accuracy: 0.7754\n",
      "Epoch 18/60\n",
      "165/165 [==============================] - 0s 501us/step - loss: 0.4729 - accuracy: 0.7885 - val_loss: 0.4872 - val_accuracy: 0.7759\n",
      "Epoch 19/60\n",
      "165/165 [==============================] - 0s 510us/step - loss: 0.4720 - accuracy: 0.7896 - val_loss: 0.4867 - val_accuracy: 0.7765\n",
      "Epoch 20/60\n",
      "165/165 [==============================] - 0s 533us/step - loss: 0.4712 - accuracy: 0.7912 - val_loss: 0.4849 - val_accuracy: 0.7776\n",
      "Epoch 21/60\n",
      "165/165 [==============================] - 0s 539us/step - loss: 0.4704 - accuracy: 0.7901 - val_loss: 0.4850 - val_accuracy: 0.7759\n",
      "Epoch 22/60\n",
      "165/165 [==============================] - 0s 529us/step - loss: 0.4694 - accuracy: 0.7921 - val_loss: 0.4837 - val_accuracy: 0.7770\n",
      "Epoch 23/60\n",
      "165/165 [==============================] - 0s 523us/step - loss: 0.4692 - accuracy: 0.7917 - val_loss: 0.4835 - val_accuracy: 0.7754\n",
      "Epoch 24/60\n",
      "165/165 [==============================] - 0s 545us/step - loss: 0.4680 - accuracy: 0.7926 - val_loss: 0.4832 - val_accuracy: 0.7776\n",
      "Epoch 25/60\n",
      "165/165 [==============================] - 0s 520us/step - loss: 0.4676 - accuracy: 0.7931 - val_loss: 0.4831 - val_accuracy: 0.7754\n",
      "Epoch 26/60\n",
      "165/165 [==============================] - 0s 592us/step - loss: 0.4666 - accuracy: 0.7943 - val_loss: 0.4841 - val_accuracy: 0.7781\n",
      "Epoch 27/60\n",
      "165/165 [==============================] - 0s 550us/step - loss: 0.4659 - accuracy: 0.7942 - val_loss: 0.4823 - val_accuracy: 0.7754\n",
      "Epoch 28/60\n",
      "165/165 [==============================] - 0s 556us/step - loss: 0.4650 - accuracy: 0.7943 - val_loss: 0.4844 - val_accuracy: 0.7798\n",
      "Epoch 29/60\n",
      "165/165 [==============================] - 0s 538us/step - loss: 0.4648 - accuracy: 0.7948 - val_loss: 0.4828 - val_accuracy: 0.7820\n",
      "Epoch 30/60\n",
      "165/165 [==============================] - 0s 516us/step - loss: 0.4640 - accuracy: 0.7957 - val_loss: 0.4803 - val_accuracy: 0.7793\n",
      "Epoch 31/60\n",
      "165/165 [==============================] - 0s 557us/step - loss: 0.4635 - accuracy: 0.7959 - val_loss: 0.4804 - val_accuracy: 0.7815\n",
      "Epoch 32/60\n",
      "165/165 [==============================] - 0s 525us/step - loss: 0.4632 - accuracy: 0.7963 - val_loss: 0.4801 - val_accuracy: 0.7837\n",
      "Epoch 33/60\n",
      "165/165 [==============================] - 0s 532us/step - loss: 0.4627 - accuracy: 0.7955 - val_loss: 0.4804 - val_accuracy: 0.7809\n",
      "Epoch 34/60\n",
      "165/165 [==============================] - 0s 504us/step - loss: 0.4623 - accuracy: 0.7974 - val_loss: 0.4792 - val_accuracy: 0.7826\n",
      "Epoch 35/60\n",
      "165/165 [==============================] - 0s 512us/step - loss: 0.4620 - accuracy: 0.7973 - val_loss: 0.4789 - val_accuracy: 0.7809\n",
      "Epoch 36/60\n",
      "165/165 [==============================] - 0s 532us/step - loss: 0.4615 - accuracy: 0.7964 - val_loss: 0.4808 - val_accuracy: 0.7831\n",
      "Epoch 37/60\n",
      "165/165 [==============================] - 0s 514us/step - loss: 0.4613 - accuracy: 0.7968 - val_loss: 0.4781 - val_accuracy: 0.7842\n",
      "Epoch 38/60\n",
      "165/165 [==============================] - 0s 528us/step - loss: 0.4607 - accuracy: 0.7963 - val_loss: 0.4782 - val_accuracy: 0.7842\n",
      "Epoch 39/60\n",
      "165/165 [==============================] - 0s 528us/step - loss: 0.4603 - accuracy: 0.7980 - val_loss: 0.4777 - val_accuracy: 0.7842\n",
      "Epoch 40/60\n",
      "165/165 [==============================] - 0s 538us/step - loss: 0.4603 - accuracy: 0.7975 - val_loss: 0.4768 - val_accuracy: 0.7859\n",
      "Epoch 41/60\n",
      "165/165 [==============================] - 0s 592us/step - loss: 0.4598 - accuracy: 0.7984 - val_loss: 0.4773 - val_accuracy: 0.7848\n",
      "Epoch 42/60\n",
      "165/165 [==============================] - 0s 527us/step - loss: 0.4592 - accuracy: 0.7977 - val_loss: 0.4770 - val_accuracy: 0.7870\n",
      "Epoch 43/60\n",
      "165/165 [==============================] - 0s 550us/step - loss: 0.4590 - accuracy: 0.7970 - val_loss: 0.4763 - val_accuracy: 0.7870\n",
      "Epoch 44/60\n",
      "165/165 [==============================] - 0s 525us/step - loss: 0.4589 - accuracy: 0.7997 - val_loss: 0.4758 - val_accuracy: 0.7865\n",
      "Epoch 45/60\n",
      "165/165 [==============================] - 0s 523us/step - loss: 0.4583 - accuracy: 0.7976 - val_loss: 0.4766 - val_accuracy: 0.7854\n",
      "Epoch 46/60\n",
      "165/165 [==============================] - 0s 526us/step - loss: 0.4581 - accuracy: 0.7992 - val_loss: 0.4754 - val_accuracy: 0.7887\n",
      "Epoch 47/60\n",
      "165/165 [==============================] - 0s 514us/step - loss: 0.4582 - accuracy: 0.7977 - val_loss: 0.4746 - val_accuracy: 0.7859\n",
      "Epoch 48/60\n",
      "165/165 [==============================] - 0s 544us/step - loss: 0.4578 - accuracy: 0.7995 - val_loss: 0.4751 - val_accuracy: 0.7870\n",
      "Epoch 49/60\n",
      "165/165 [==============================] - 0s 514us/step - loss: 0.4577 - accuracy: 0.7984 - val_loss: 0.4740 - val_accuracy: 0.7848\n",
      "Epoch 50/60\n",
      "165/165 [==============================] - 0s 510us/step - loss: 0.4574 - accuracy: 0.7994 - val_loss: 0.4752 - val_accuracy: 0.7870\n",
      "Epoch 51/60\n",
      "165/165 [==============================] - 0s 517us/step - loss: 0.4568 - accuracy: 0.7986 - val_loss: 0.4741 - val_accuracy: 0.7915\n",
      "Epoch 52/60\n",
      "165/165 [==============================] - 0s 523us/step - loss: 0.4563 - accuracy: 0.7991 - val_loss: 0.4732 - val_accuracy: 0.7898\n",
      "Epoch 53/60\n",
      "165/165 [==============================] - 0s 548us/step - loss: 0.4561 - accuracy: 0.8003 - val_loss: 0.4736 - val_accuracy: 0.7865\n",
      "Epoch 54/60\n",
      "165/165 [==============================] - 0s 507us/step - loss: 0.4567 - accuracy: 0.7993 - val_loss: 0.4732 - val_accuracy: 0.7903\n",
      "Epoch 55/60\n",
      "165/165 [==============================] - 0s 540us/step - loss: 0.4556 - accuracy: 0.8006 - val_loss: 0.4719 - val_accuracy: 0.7892\n",
      "Epoch 56/60\n",
      "165/165 [==============================] - 0s 546us/step - loss: 0.4554 - accuracy: 0.7995 - val_loss: 0.4720 - val_accuracy: 0.7948\n",
      "Epoch 57/60\n",
      "165/165 [==============================] - 0s 530us/step - loss: 0.4551 - accuracy: 0.8005 - val_loss: 0.4713 - val_accuracy: 0.7909\n",
      "Epoch 58/60\n",
      "165/165 [==============================] - 0s 514us/step - loss: 0.4549 - accuracy: 0.8007 - val_loss: 0.4715 - val_accuracy: 0.7926\n",
      "Epoch 59/60\n",
      "165/165 [==============================] - 0s 530us/step - loss: 0.4548 - accuracy: 0.8003 - val_loss: 0.4720 - val_accuracy: 0.7948\n",
      "Epoch 60/60\n",
      "165/165 [==============================] - 0s 538us/step - loss: 0.4544 - accuracy: 0.8009 - val_loss: 0.4714 - val_accuracy: 0.7942\n"
     ]
    }
   ],
   "source": [
    "m = model.fit(X_train, y_train, validation_split=0.15, epochs=60, batch_size=62)"
   ]
  },
  {
   "cell_type": "code",
   "execution_count": 24,
   "metadata": {},
   "outputs": [
    {
     "name": "stdout",
     "output_type": "stream",
     "text": [
      "94/94 [==============================] - 0s 351us/step - loss: 0.4466 - accuracy: 0.8086\n",
      "test score: [0.44660407304763794, 0.8085885643959045]\n"
     ]
    }
   ],
   "source": [
    "print('test score:',model.evaluate(X_test, y_test))"
   ]
  },
  {
   "cell_type": "code",
   "execution_count": 25,
   "metadata": {},
   "outputs": [],
   "source": [
    "y_pred = model.predict(X_test)\n",
    "\n",
    "y_pred = (y_pred > 0.5)"
   ]
  },
  {
   "cell_type": "code",
   "execution_count": 26,
   "metadata": {},
   "outputs": [
    {
     "name": "stdout",
     "output_type": "stream",
     "text": [
      "[[ True]\n",
      " [False]\n",
      " [False]\n",
      " ...\n",
      " [ True]\n",
      " [ True]\n",
      " [False]]\n"
     ]
    }
   ],
   "source": [
    "print(y_pred)"
   ]
  },
  {
   "cell_type": "code",
   "execution_count": 27,
   "metadata": {},
   "outputs": [
    {
     "name": "stdout",
     "output_type": "stream",
     "text": [
      "[[1 1]\n",
      " [0 0]\n",
      " [0 0]\n",
      " ...\n",
      " [1 1]\n",
      " [1 1]\n",
      " [0 0]]\n"
     ]
    }
   ],
   "source": [
    "print(np.concatenate((y_pred.reshape(len(y_pred),1),y_test.reshape(len(y_test),1)),1))"
   ]
  },
  {
   "cell_type": "code",
   "execution_count": 28,
   "metadata": {},
   "outputs": [
    {
     "name": "stdout",
     "output_type": "stream",
     "text": [
      "[[1181  321]\n",
      " [ 254 1248]]\n"
     ]
    },
    {
     "data": {
      "text/plain": [
       "0.8085885486018641"
      ]
     },
     "execution_count": 28,
     "metadata": {},
     "output_type": "execute_result"
    }
   ],
   "source": [
    "from sklearn.metrics import confusion_matrix, accuracy_score\n",
    "cm = confusion_matrix(y_test, y_pred)\n",
    "print(cm)\n",
    "accuracy_score(y_test, y_pred)"
   ]
  },
  {
   "cell_type": "code",
   "execution_count": 29,
   "metadata": {},
   "outputs": [
    {
     "data": {
      "text/plain": [
       "<matplotlib.legend.Legend at 0x24ed9ff7550>"
      ]
     },
     "execution_count": 29,
     "metadata": {},
     "output_type": "execute_result"
    },
    {
     "data": {
      "image/png": "[encoded data removed]",
      "text/plain": [
       "<Figure size 432x288 with 1 Axes>"
      ]
     },
     "metadata": {
      "needs_background": "light"
     },
     "output_type": "display_data"
    }
   ],
   "source": [
    "plt.plot(m.history['loss'], label='loss')\n",
    "plt.plot(m.history['val_loss'],label='loss')\n",
    "plt.legend()"
   ]
  },
  {
   "cell_type": "code",
   "execution_count": 30,
   "metadata": {},
   "outputs": [
    {
     "data": {
      "text/plain": [
       "<matplotlib.legend.Legend at 0x24ee366ea00>"
      ]
     },
     "execution_count": 30,
     "metadata": {},
     "output_type": "execute_result"
    },
    {
     "data": {
      "image/png": "[encoded data removed]",
      "text/plain": [
       "<Figure size 432x288 with 1 Axes>"
      ]
     },
     "metadata": {
      "needs_background": "light"
     },
     "output_type": "display_data"
    }
   ],
   "source": [
    "plt.plot(m.history['accuracy'],label='accu')\n",
    "plt.plot(m.history['val_accuracy'], label='val_acc')\n",
    "plt.legend()"
   ]
  },
  {
   "cell_type": "code",
   "execution_count": 31,
   "metadata": {},
   "outputs": [
    {
     "data": {
      "image/png": "[encoded data removed]",
      "text/plain": [
       "<IPython.core.display.Image object>"
      ]
     },
     "execution_count": 31,
     "metadata": {},
     "output_type": "execute_result"
    }
   ],
   "source": [
    "from keras.utils import plot_model\n",
    "\n",
    "tf.keras.utils.plot_model(model, to_file='tesnor3.png', show_shapes=True, show_layer_names=True)\n"
   ]
  },
  {
   "cell_type": "code",
   "execution_count": null,
   "metadata": {},
   "outputs": [],
   "source": []
  }
 ],
 "metadata": {
  "kernelspec": {
   "display_name": "Python 3",
   "language": "python",
   "name": "python3"
  },
  "language_info": {
   "codemirror_mode": {
    "name": "ipython",
    "version": 3
   },
   "file_extension": ".py",
   "mimetype": "text/x-python",
   "name": "python",
   "nbconvert_exporter": "python",
   "pygments_lexer": "ipython3",
   "version": "3.8.3"
  }
 },
 "nbformat": 4,
 "nbformat_minor": 4
}
