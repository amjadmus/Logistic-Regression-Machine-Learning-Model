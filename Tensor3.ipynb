{
 "cells": [
  {
   "cell_type": "code",
   "execution_count": null,
   "metadata": {},
   "outputs": [],
   "source": [
    "import tensorflow as tf\n",
    "import pandas as pd\n",
    "import numpy as np\n",
    "\n",
    "from sklearn.model_selection import train_test_split\n",
    "import sklearn\n",
    "import matplotlib.pyplot as plt\n"
   ]
  },
  {
   "cell_type": "code",
   "execution_count": null,
   "metadata": {
    "scrolled": true
   },
   "outputs": [],
   "source": []
  },
  {
   "cell_type": "code",
   "execution_count": 2,
   "metadata": {},
   "outputs": [],
   "source": [
    "df = pd.read_csv('completereview.csv',low_memory=False, index_col=0)\n",
    "df = df.reset_index(drop=True)"
   ]
  },
  {
   "cell_type": "code",
   "execution_count": 3,
   "metadata": {
    "collapsed": true,
    "jupyter": {
     "outputs_hidden": true
    }
   },
   "outputs": [
    {
     "data": {
      "text/html": [
       "<div>\n",
       "<style scoped>\n",
       "    .dataframe tbody tr th:only-of-type {\n",
       "        vertical-align: middle;\n",
       "    }\n",
       "\n",
       "    .dataframe tbody tr th {\n",
       "        vertical-align: top;\n",
       "    }\n",
       "\n",
       "    .dataframe thead th {\n",
       "        text-align: right;\n",
       "    }\n",
       "</style>\n",
       "<table border=\"1\" class=\"dataframe\">\n",
       "  <thead>\n",
       "    <tr style=\"text-align: right;\">\n",
       "      <th></th>\n",
       "      <th>id</th>\n",
       "      <th>title</th>\n",
       "      <th>score</th>\n",
       "      <th>lease</th>\n",
       "      <th>rent</th>\n",
       "      <th>condition</th>\n",
       "      <th>responsiveness</th>\n",
       "      <th>respect</th>\n",
       "      <th>information</th>\n",
       "      <th>fairness</th>\n",
       "      <th>...</th>\n",
       "      <th>cached_votes_up</th>\n",
       "      <th>cached_votes_down</th>\n",
       "      <th>cached_weighted_score</th>\n",
       "      <th>cached_weighted_total</th>\n",
       "      <th>cached_weighted_average</th>\n",
       "      <th>deposit</th>\n",
       "      <th>deposit_jusitified</th>\n",
       "      <th>best_thing</th>\n",
       "      <th>worst_thing</th>\n",
       "      <th>complete</th>\n",
       "    </tr>\n",
       "  </thead>\n",
       "  <tbody>\n",
       "    <tr>\n",
       "      <th>0</th>\n",
       "      <td>2374</td>\n",
       "      <td>New management staff is outstanding</td>\n",
       "      <td>4.0</td>\n",
       "      <td>3.0</td>\n",
       "      <td>1999.0</td>\n",
       "      <td>4.0</td>\n",
       "      <td>4.0</td>\n",
       "      <td>4.0</td>\n",
       "      <td>4.0</td>\n",
       "      <td>NaN</td>\n",
       "      <td>...</td>\n",
       "      <td>0</td>\n",
       "      <td>0</td>\n",
       "      <td>0</td>\n",
       "      <td>0</td>\n",
       "      <td>0.0</td>\n",
       "      <td>NaN</td>\n",
       "      <td>NaN</td>\n",
       "      <td>The location</td>\n",
       "      <td>Parking is expensive</td>\n",
       "      <td>True</td>\n",
       "    </tr>\n",
       "    <tr>\n",
       "      <th>1</th>\n",
       "      <td>2382</td>\n",
       "      <td>Yes</td>\n",
       "      <td>4.4</td>\n",
       "      <td>4.0</td>\n",
       "      <td>NaN</td>\n",
       "      <td>4.0</td>\n",
       "      <td>4.0</td>\n",
       "      <td>5.0</td>\n",
       "      <td>5.0</td>\n",
       "      <td>NaN</td>\n",
       "      <td>...</td>\n",
       "      <td>0</td>\n",
       "      <td>0</td>\n",
       "      <td>0</td>\n",
       "      <td>0</td>\n",
       "      <td>0.0</td>\n",
       "      <td>NaN</td>\n",
       "      <td>NaN</td>\n",
       "      <td>Responded to questions and maintenance request...</td>\n",
       "      <td>Didn't experience much negativity. They're ver...</td>\n",
       "      <td>True</td>\n",
       "    </tr>\n",
       "    <tr>\n",
       "      <th>2</th>\n",
       "      <td>2385</td>\n",
       "      <td>Friendly staff</td>\n",
       "      <td>4.9</td>\n",
       "      <td>4.0</td>\n",
       "      <td>2290.0</td>\n",
       "      <td>5.0</td>\n",
       "      <td>5.0</td>\n",
       "      <td>5.0</td>\n",
       "      <td>5.0</td>\n",
       "      <td>NaN</td>\n",
       "      <td>...</td>\n",
       "      <td>0</td>\n",
       "      <td>0</td>\n",
       "      <td>0</td>\n",
       "      <td>0</td>\n",
       "      <td>0.0</td>\n",
       "      <td>NaN</td>\n",
       "      <td>NaN</td>\n",
       "      <td>High ceilings. I love high ceilings!</td>\n",
       "      <td>None</td>\n",
       "      <td>True</td>\n",
       "    </tr>\n",
       "    <tr>\n",
       "      <th>3</th>\n",
       "      <td>7304</td>\n",
       "      <td>Horrible experience. DO NOT RENT FROM THEM.</td>\n",
       "      <td>4.1</td>\n",
       "      <td>1.0</td>\n",
       "      <td>1.0</td>\n",
       "      <td>5.0</td>\n",
       "      <td>3.0</td>\n",
       "      <td>5.0</td>\n",
       "      <td>5.0</td>\n",
       "      <td>NaN</td>\n",
       "      <td>...</td>\n",
       "      <td>0</td>\n",
       "      <td>0</td>\n",
       "      <td>0</td>\n",
       "      <td>0</td>\n",
       "      <td>0.0</td>\n",
       "      <td>100.0</td>\n",
       "      <td>True</td>\n",
       "      <td>NaN</td>\n",
       "      <td>NaN</td>\n",
       "      <td>True</td>\n",
       "    </tr>\n",
       "    <tr>\n",
       "      <th>4</th>\n",
       "      <td>2654</td>\n",
       "      <td>Management refuses to handle any problem</td>\n",
       "      <td>1.0</td>\n",
       "      <td>2.0</td>\n",
       "      <td>2750.0</td>\n",
       "      <td>1.0</td>\n",
       "      <td>1.0</td>\n",
       "      <td>1.0</td>\n",
       "      <td>1.0</td>\n",
       "      <td>NaN</td>\n",
       "      <td>...</td>\n",
       "      <td>1</td>\n",
       "      <td>1</td>\n",
       "      <td>0</td>\n",
       "      <td>2</td>\n",
       "      <td>0.0</td>\n",
       "      <td>NaN</td>\n",
       "      <td>NaN</td>\n",
       "      <td>The pool</td>\n",
       "      <td>Management</td>\n",
       "      <td>True</td>\n",
       "    </tr>\n",
       "    <tr>\n",
       "      <th>...</th>\n",
       "      <td>...</td>\n",
       "      <td>...</td>\n",
       "      <td>...</td>\n",
       "      <td>...</td>\n",
       "      <td>...</td>\n",
       "      <td>...</td>\n",
       "      <td>...</td>\n",
       "      <td>...</td>\n",
       "      <td>...</td>\n",
       "      <td>...</td>\n",
       "      <td>...</td>\n",
       "      <td>...</td>\n",
       "      <td>...</td>\n",
       "      <td>...</td>\n",
       "      <td>...</td>\n",
       "      <td>...</td>\n",
       "      <td>...</td>\n",
       "      <td>...</td>\n",
       "      <td>...</td>\n",
       "      <td>...</td>\n",
       "      <td>...</td>\n",
       "    </tr>\n",
       "    <tr>\n",
       "      <th>15013</th>\n",
       "      <td>17706</td>\n",
       "      <td>Great experience!</td>\n",
       "      <td>5.0</td>\n",
       "      <td>3.0</td>\n",
       "      <td>0.0</td>\n",
       "      <td>5.0</td>\n",
       "      <td>5.0</td>\n",
       "      <td>5.0</td>\n",
       "      <td>5.0</td>\n",
       "      <td>NaN</td>\n",
       "      <td>...</td>\n",
       "      <td>0</td>\n",
       "      <td>0</td>\n",
       "      <td>0</td>\n",
       "      <td>0</td>\n",
       "      <td>0.0</td>\n",
       "      <td>0.0</td>\n",
       "      <td>NaN</td>\n",
       "      <td>NaN</td>\n",
       "      <td>NaN</td>\n",
       "      <td>True</td>\n",
       "    </tr>\n",
       "    <tr>\n",
       "      <th>15014</th>\n",
       "      <td>17708</td>\n",
       "      <td>Test titletitle</td>\n",
       "      <td>3.7</td>\n",
       "      <td>1.0</td>\n",
       "      <td>250.0</td>\n",
       "      <td>5.0</td>\n",
       "      <td>5.0</td>\n",
       "      <td>2.0</td>\n",
       "      <td>3.0</td>\n",
       "      <td>NaN</td>\n",
       "      <td>...</td>\n",
       "      <td>0</td>\n",
       "      <td>0</td>\n",
       "      <td>0</td>\n",
       "      <td>0</td>\n",
       "      <td>0.0</td>\n",
       "      <td>0.0</td>\n",
       "      <td>NaN</td>\n",
       "      <td>NaN</td>\n",
       "      <td>NaN</td>\n",
       "      <td>True</td>\n",
       "    </tr>\n",
       "    <tr>\n",
       "      <th>15015</th>\n",
       "      <td>17709</td>\n",
       "      <td>Love living here.</td>\n",
       "      <td>4.6</td>\n",
       "      <td>4.0</td>\n",
       "      <td>2300.0</td>\n",
       "      <td>5.0</td>\n",
       "      <td>4.0</td>\n",
       "      <td>5.0</td>\n",
       "      <td>3.0</td>\n",
       "      <td>NaN</td>\n",
       "      <td>...</td>\n",
       "      <td>0</td>\n",
       "      <td>0</td>\n",
       "      <td>0</td>\n",
       "      <td>0</td>\n",
       "      <td>0.0</td>\n",
       "      <td>0.0</td>\n",
       "      <td>NaN</td>\n",
       "      <td>NaN</td>\n",
       "      <td>NaN</td>\n",
       "      <td>True</td>\n",
       "    </tr>\n",
       "    <tr>\n",
       "      <th>15016</th>\n",
       "      <td>16680</td>\n",
       "      <td>Slumlord</td>\n",
       "      <td>3.0</td>\n",
       "      <td>1.0</td>\n",
       "      <td>700.0</td>\n",
       "      <td>5.0</td>\n",
       "      <td>2.0</td>\n",
       "      <td>5.0</td>\n",
       "      <td>2.0</td>\n",
       "      <td>NaN</td>\n",
       "      <td>...</td>\n",
       "      <td>0</td>\n",
       "      <td>0</td>\n",
       "      <td>0</td>\n",
       "      <td>0</td>\n",
       "      <td>0.0</td>\n",
       "      <td>0.0</td>\n",
       "      <td>True</td>\n",
       "      <td>NaN</td>\n",
       "      <td>NaN</td>\n",
       "      <td>True</td>\n",
       "    </tr>\n",
       "    <tr>\n",
       "      <th>15017</th>\n",
       "      <td>12213</td>\n",
       "      <td>Slum Landlord</td>\n",
       "      <td>3.9</td>\n",
       "      <td>3.0</td>\n",
       "      <td>750.0</td>\n",
       "      <td>5.0</td>\n",
       "      <td>2.0</td>\n",
       "      <td>5.0</td>\n",
       "      <td>2.0</td>\n",
       "      <td>NaN</td>\n",
       "      <td>...</td>\n",
       "      <td>0</td>\n",
       "      <td>0</td>\n",
       "      <td>0</td>\n",
       "      <td>0</td>\n",
       "      <td>0.0</td>\n",
       "      <td>0.0</td>\n",
       "      <td>NaN</td>\n",
       "      <td>NaN</td>\n",
       "      <td>NaN</td>\n",
       "      <td>True</td>\n",
       "    </tr>\n",
       "  </tbody>\n",
       "</table>\n",
       "<p>15018 rows × 36 columns</p>\n",
       "</div>"
      ],
      "text/plain": [
       "          id                                        title  score  lease  \\\n",
       "0       2374          New management staff is outstanding    4.0    3.0   \n",
       "1       2382                                          Yes    4.4    4.0   \n",
       "2       2385                               Friendly staff    4.9    4.0   \n",
       "3       7304  Horrible experience. DO NOT RENT FROM THEM.    4.1    1.0   \n",
       "4       2654     Management refuses to handle any problem    1.0    2.0   \n",
       "...      ...                                          ...    ...    ...   \n",
       "15013  17706                           Great experience!     5.0    3.0   \n",
       "15014  17708                              Test titletitle    3.7    1.0   \n",
       "15015  17709                          Love living here.      4.6    4.0   \n",
       "15016  16680                                     Slumlord    3.0    1.0   \n",
       "15017  12213                                Slum Landlord    3.9    3.0   \n",
       "\n",
       "         rent  condition  responsiveness  respect  information  fairness  ...  \\\n",
       "0      1999.0        4.0             4.0      4.0          4.0       NaN  ...   \n",
       "1         NaN        4.0             4.0      5.0          5.0       NaN  ...   \n",
       "2      2290.0        5.0             5.0      5.0          5.0       NaN  ...   \n",
       "3         1.0        5.0             3.0      5.0          5.0       NaN  ...   \n",
       "4      2750.0        1.0             1.0      1.0          1.0       NaN  ...   \n",
       "...       ...        ...             ...      ...          ...       ...  ...   \n",
       "15013     0.0        5.0             5.0      5.0          5.0       NaN  ...   \n",
       "15014   250.0        5.0             5.0      2.0          3.0       NaN  ...   \n",
       "15015  2300.0        5.0             4.0      5.0          3.0       NaN  ...   \n",
       "15016   700.0        5.0             2.0      5.0          2.0       NaN  ...   \n",
       "15017   750.0        5.0             2.0      5.0          2.0       NaN  ...   \n",
       "\n",
       "       cached_votes_up  cached_votes_down  cached_weighted_score  \\\n",
       "0                    0                  0                      0   \n",
       "1                    0                  0                      0   \n",
       "2                    0                  0                      0   \n",
       "3                    0                  0                      0   \n",
       "4                    1                  1                      0   \n",
       "...                ...                ...                    ...   \n",
       "15013                0                  0                      0   \n",
       "15014                0                  0                      0   \n",
       "15015                0                  0                      0   \n",
       "15016                0                  0                      0   \n",
       "15017                0                  0                      0   \n",
       "\n",
       "      cached_weighted_total cached_weighted_average deposit  \\\n",
       "0                         0                     0.0     NaN   \n",
       "1                         0                     0.0     NaN   \n",
       "2                         0                     0.0     NaN   \n",
       "3                         0                     0.0   100.0   \n",
       "4                         2                     0.0     NaN   \n",
       "...                     ...                     ...     ...   \n",
       "15013                     0                     0.0     0.0   \n",
       "15014                     0                     0.0     0.0   \n",
       "15015                     0                     0.0     0.0   \n",
       "15016                     0                     0.0     0.0   \n",
       "15017                     0                     0.0     0.0   \n",
       "\n",
       "       deposit_jusitified                                         best_thing  \\\n",
       "0                     NaN                                       The location   \n",
       "1                     NaN  Responded to questions and maintenance request...   \n",
       "2                     NaN               High ceilings. I love high ceilings!   \n",
       "3                    True                                                NaN   \n",
       "4                     NaN                                           The pool   \n",
       "...                   ...                                                ...   \n",
       "15013                 NaN                                                NaN   \n",
       "15014                 NaN                                                NaN   \n",
       "15015                 NaN                                                NaN   \n",
       "15016                True                                                NaN   \n",
       "15017                 NaN                                                NaN   \n",
       "\n",
       "                                             worst_thing complete  \n",
       "0                                   Parking is expensive     True  \n",
       "1      Didn't experience much negativity. They're ver...     True  \n",
       "2                                                   None     True  \n",
       "3                                                    NaN     True  \n",
       "4                                             Management     True  \n",
       "...                                                  ...      ...  \n",
       "15013                                                NaN     True  \n",
       "15014                                                NaN     True  \n",
       "15015                                                NaN     True  \n",
       "15016                                                NaN     True  \n",
       "15017                                                NaN     True  \n",
       "\n",
       "[15018 rows x 36 columns]"
      ]
     },
     "execution_count": 3,
     "metadata": {},
     "output_type": "execute_result"
    }
   ],
   "source": [
    "df # social, information, fairness"
   ]
  },
  {
   "cell_type": "code",
   "execution_count": 4,
   "metadata": {
    "collapsed": true,
    "jupyter": {
     "outputs_hidden": true
    }
   },
   "outputs": [
    {
     "data": {
      "text/plain": [
       "Index(['id', 'title', 'score', 'lease', 'rent', 'condition', 'responsiveness',\n",
       "       'respect', 'information', 'fairness', 'safety', 'landlord_id',\n",
       "       'recommend', 'created_at', 'updated_at', 'body', 'college_id',\n",
       "       'visible', 'author_id', 'author_type', 'pests', 'social', 'email',\n",
       "       'flagged', 'cached_votes_total', 'cached_votes_score',\n",
       "       'cached_votes_up', 'cached_votes_down', 'cached_weighted_score',\n",
       "       'cached_weighted_total', 'cached_weighted_average', 'deposit',\n",
       "       'deposit_jusitified', 'best_thing', 'worst_thing', 'complete'],\n",
       "      dtype='object')"
      ]
     },
     "execution_count": 4,
     "metadata": {},
     "output_type": "execute_result"
    }
   ],
   "source": [
    "df.columns"
   ]
  },
  {
   "cell_type": "code",
   "execution_count": 5,
   "metadata": {},
   "outputs": [],
   "source": [
    "df = df.drop(columns = ['id','title','landlord_id','updated_at','body','visible','author_type','email','flagged','best_thing','worst_thing','cached_votes_score','cached_votes_up','cached_votes_down','cached_weighted_total','cached_weighted_average','deposit','complete'])"
   ]
  },
  {
   "cell_type": "code",
   "execution_count": 6,
   "metadata": {
    "collapsed": true,
    "jupyter": {
     "outputs_hidden": true
    }
   },
   "outputs": [
    {
     "data": {
      "text/plain": [
       "Index(['score', 'lease', 'rent', 'condition', 'responsiveness', 'respect',\n",
       "       'information', 'fairness', 'safety', 'recommend', 'created_at',\n",
       "       'college_id', 'author_id', 'pests', 'social', 'cached_votes_total',\n",
       "       'cached_weighted_score', 'deposit_jusitified'],\n",
       "      dtype='object')"
      ]
     },
     "execution_count": 6,
     "metadata": {},
     "output_type": "execute_result"
    }
   ],
   "source": [
    "df.columns"
   ]
  },
  {
   "cell_type": "code",
   "execution_count": 7,
   "metadata": {},
   "outputs": [],
   "source": [
    "df = df.drop(columns = ['college_id','deposit_jusitified','created_at','cached_votes_total','cached_weighted_score', 'lease','rent'])\n"
   ]
  },
  {
   "cell_type": "code",
   "execution_count": 8,
   "metadata": {
    "collapsed": true,
    "jupyter": {
     "outputs_hidden": true
    }
   },
   "outputs": [
    {
     "data": {
      "text/plain": [
       "Index(['score', 'condition', 'responsiveness', 'respect', 'information',\n",
       "       'fairness', 'safety', 'recommend', 'author_id', 'pests', 'social'],\n",
       "      dtype='object')"
      ]
     },
     "execution_count": 8,
     "metadata": {},
     "output_type": "execute_result"
    }
   ],
   "source": [
    "df.columns"
   ]
  },
  {
   "cell_type": "code",
   "execution_count": 9,
   "metadata": {},
   "outputs": [],
   "source": [
    "df = df.drop(['author_id'], axis=1)"
   ]
  },
  {
   "cell_type": "code",
   "execution_count": 10,
   "metadata": {},
   "outputs": [],
   "source": [
    "df = df.drop(['fairness'],axis=1)"
   ]
  },
  {
   "cell_type": "code",
   "execution_count": 11,
   "metadata": {},
   "outputs": [
    {
     "data": {
      "text/plain": [
       "Index(['score', 'condition', 'responsiveness', 'respect', 'information',\n",
       "       'safety', 'recommend', 'pests', 'social'],\n",
       "      dtype='object')"
      ]
     },
     "execution_count": 11,
     "metadata": {},
     "output_type": "execute_result"
    }
   ],
   "source": [
    "df.columns"
   ]
  },
  {
   "cell_type": "code",
   "execution_count": 12,
   "metadata": {},
   "outputs": [],
   "source": [
    "rec_map = {False: 0, True: 1}\n",
    "\n",
    "df = df.replace({'recommend': rec_map})\n"
   ]
  },
  {
   "cell_type": "code",
   "execution_count": 13,
   "metadata": {
    "collapsed": true,
    "jupyter": {
     "outputs_hidden": true
    }
   },
   "outputs": [
    {
     "data": {
      "text/html": [
       "<div>\n",
       "<style scoped>\n",
       "    .dataframe tbody tr th:only-of-type {\n",
       "        vertical-align: middle;\n",
       "    }\n",
       "\n",
       "    .dataframe tbody tr th {\n",
       "        vertical-align: top;\n",
       "    }\n",
       "\n",
       "    .dataframe thead th {\n",
       "        text-align: right;\n",
       "    }\n",
       "</style>\n",
       "<table border=\"1\" class=\"dataframe\">\n",
       "  <thead>\n",
       "    <tr style=\"text-align: right;\">\n",
       "      <th></th>\n",
       "      <th>score</th>\n",
       "      <th>condition</th>\n",
       "      <th>responsiveness</th>\n",
       "      <th>respect</th>\n",
       "      <th>information</th>\n",
       "      <th>safety</th>\n",
       "      <th>recommend</th>\n",
       "      <th>pests</th>\n",
       "      <th>social</th>\n",
       "    </tr>\n",
       "  </thead>\n",
       "  <tbody>\n",
       "    <tr>\n",
       "      <th>0</th>\n",
       "      <td>4.0</td>\n",
       "      <td>4.0</td>\n",
       "      <td>4.0</td>\n",
       "      <td>4.0</td>\n",
       "      <td>4.0</td>\n",
       "      <td>4.0</td>\n",
       "      <td>1</td>\n",
       "      <td>4.0</td>\n",
       "      <td>4.0</td>\n",
       "    </tr>\n",
       "    <tr>\n",
       "      <th>1</th>\n",
       "      <td>4.4</td>\n",
       "      <td>4.0</td>\n",
       "      <td>4.0</td>\n",
       "      <td>5.0</td>\n",
       "      <td>5.0</td>\n",
       "      <td>4.0</td>\n",
       "      <td>1</td>\n",
       "      <td>4.0</td>\n",
       "      <td>5.0</td>\n",
       "    </tr>\n",
       "    <tr>\n",
       "      <th>2</th>\n",
       "      <td>4.9</td>\n",
       "      <td>5.0</td>\n",
       "      <td>5.0</td>\n",
       "      <td>5.0</td>\n",
       "      <td>5.0</td>\n",
       "      <td>5.0</td>\n",
       "      <td>1</td>\n",
       "      <td>4.0</td>\n",
       "      <td>5.0</td>\n",
       "    </tr>\n",
       "    <tr>\n",
       "      <th>3</th>\n",
       "      <td>4.1</td>\n",
       "      <td>5.0</td>\n",
       "      <td>3.0</td>\n",
       "      <td>5.0</td>\n",
       "      <td>5.0</td>\n",
       "      <td>2.0</td>\n",
       "      <td>0</td>\n",
       "      <td>5.0</td>\n",
       "      <td>4.0</td>\n",
       "    </tr>\n",
       "    <tr>\n",
       "      <th>4</th>\n",
       "      <td>1.0</td>\n",
       "      <td>1.0</td>\n",
       "      <td>1.0</td>\n",
       "      <td>1.0</td>\n",
       "      <td>1.0</td>\n",
       "      <td>1.0</td>\n",
       "      <td>0</td>\n",
       "      <td>1.0</td>\n",
       "      <td>1.0</td>\n",
       "    </tr>\n",
       "    <tr>\n",
       "      <th>...</th>\n",
       "      <td>...</td>\n",
       "      <td>...</td>\n",
       "      <td>...</td>\n",
       "      <td>...</td>\n",
       "      <td>...</td>\n",
       "      <td>...</td>\n",
       "      <td>...</td>\n",
       "      <td>...</td>\n",
       "      <td>...</td>\n",
       "    </tr>\n",
       "    <tr>\n",
       "      <th>15013</th>\n",
       "      <td>5.0</td>\n",
       "      <td>5.0</td>\n",
       "      <td>5.0</td>\n",
       "      <td>5.0</td>\n",
       "      <td>5.0</td>\n",
       "      <td>5.0</td>\n",
       "      <td>1</td>\n",
       "      <td>5.0</td>\n",
       "      <td>5.0</td>\n",
       "    </tr>\n",
       "    <tr>\n",
       "      <th>15014</th>\n",
       "      <td>3.7</td>\n",
       "      <td>5.0</td>\n",
       "      <td>5.0</td>\n",
       "      <td>2.0</td>\n",
       "      <td>3.0</td>\n",
       "      <td>5.0</td>\n",
       "      <td>1</td>\n",
       "      <td>1.0</td>\n",
       "      <td>5.0</td>\n",
       "    </tr>\n",
       "    <tr>\n",
       "      <th>15015</th>\n",
       "      <td>4.6</td>\n",
       "      <td>5.0</td>\n",
       "      <td>4.0</td>\n",
       "      <td>5.0</td>\n",
       "      <td>3.0</td>\n",
       "      <td>5.0</td>\n",
       "      <td>1</td>\n",
       "      <td>5.0</td>\n",
       "      <td>5.0</td>\n",
       "    </tr>\n",
       "    <tr>\n",
       "      <th>15016</th>\n",
       "      <td>3.0</td>\n",
       "      <td>5.0</td>\n",
       "      <td>2.0</td>\n",
       "      <td>5.0</td>\n",
       "      <td>2.0</td>\n",
       "      <td>1.0</td>\n",
       "      <td>0</td>\n",
       "      <td>1.0</td>\n",
       "      <td>5.0</td>\n",
       "    </tr>\n",
       "    <tr>\n",
       "      <th>15017</th>\n",
       "      <td>3.9</td>\n",
       "      <td>5.0</td>\n",
       "      <td>2.0</td>\n",
       "      <td>5.0</td>\n",
       "      <td>2.0</td>\n",
       "      <td>3.0</td>\n",
       "      <td>0</td>\n",
       "      <td>5.0</td>\n",
       "      <td>5.0</td>\n",
       "    </tr>\n",
       "  </tbody>\n",
       "</table>\n",
       "<p>15018 rows × 9 columns</p>\n",
       "</div>"
      ],
      "text/plain": [
       "       score  condition  responsiveness  respect  information  safety  \\\n",
       "0        4.0        4.0             4.0      4.0          4.0     4.0   \n",
       "1        4.4        4.0             4.0      5.0          5.0     4.0   \n",
       "2        4.9        5.0             5.0      5.0          5.0     5.0   \n",
       "3        4.1        5.0             3.0      5.0          5.0     2.0   \n",
       "4        1.0        1.0             1.0      1.0          1.0     1.0   \n",
       "...      ...        ...             ...      ...          ...     ...   \n",
       "15013    5.0        5.0             5.0      5.0          5.0     5.0   \n",
       "15014    3.7        5.0             5.0      2.0          3.0     5.0   \n",
       "15015    4.6        5.0             4.0      5.0          3.0     5.0   \n",
       "15016    3.0        5.0             2.0      5.0          2.0     1.0   \n",
       "15017    3.9        5.0             2.0      5.0          2.0     3.0   \n",
       "\n",
       "       recommend  pests  social  \n",
       "0              1    4.0     4.0  \n",
       "1              1    4.0     5.0  \n",
       "2              1    4.0     5.0  \n",
       "3              0    5.0     4.0  \n",
       "4              0    1.0     1.0  \n",
       "...          ...    ...     ...  \n",
       "15013          1    5.0     5.0  \n",
       "15014          1    1.0     5.0  \n",
       "15015          1    5.0     5.0  \n",
       "15016          0    1.0     5.0  \n",
       "15017          0    5.0     5.0  \n",
       "\n",
       "[15018 rows x 9 columns]"
      ]
     },
     "execution_count": 13,
     "metadata": {},
     "output_type": "execute_result"
    }
   ],
   "source": [
    "df"
   ]
  },
  {
   "cell_type": "code",
   "execution_count": 14,
   "metadata": {},
   "outputs": [],
   "source": [
    "df = sklearn.utils.shuffle(df)\n",
    "X = df.drop(['recommend'], axis=1)\n",
    "y = df['recommend']"
   ]
  },
  {
   "cell_type": "code",
   "execution_count": 15,
   "metadata": {},
   "outputs": [],
   "source": [
    "from sklearn.preprocessing import StandardScaler\n",
    "sc = StandardScaler()"
   ]
  },
  {
   "cell_type": "code",
   "execution_count": 16,
   "metadata": {},
   "outputs": [
    {
     "data": {
      "text/plain": [
       "(15018, 8)"
      ]
     },
     "execution_count": 16,
     "metadata": {},
     "output_type": "execute_result"
    }
   ],
   "source": [
    "X.shape"
   ]
  },
  {
   "cell_type": "code",
   "execution_count": 17,
   "metadata": {},
   "outputs": [],
   "source": [
    "y = np.array(y)"
   ]
  },
  {
   "cell_type": "code",
   "execution_count": 18,
   "metadata": {},
   "outputs": [
    {
     "data": {
      "text/plain": [
       "array([1, 1, 0, ..., 1, 1, 0], dtype=int64)"
      ]
     },
     "execution_count": 18,
     "metadata": {},
     "output_type": "execute_result"
    }
   ],
   "source": [
    "y"
   ]
  },
  {
   "cell_type": "code",
   "execution_count": 19,
   "metadata": {},
   "outputs": [],
   "source": [
    "X_train, X_test, y_train, y_test = train_test_split(X,y, random_state=32, test_size=0.2)"
   ]
  },
  {
   "cell_type": "code",
   "execution_count": 20,
   "metadata": {},
   "outputs": [],
   "source": [
    "X_train = sc.fit_transform(X_train)\n",
    "X_test = sc.fit_transform(X_test)"
   ]
  },
  {
   "cell_type": "code",
   "execution_count": 21,
   "metadata": {},
   "outputs": [
    {
     "data": {
      "text/plain": [
       "(12014, 8)"
      ]
     },
     "execution_count": 21,
     "metadata": {},
     "output_type": "execute_result"
    }
   ],
   "source": [
    "X_train.shape"
   ]
  },
  {
   "cell_type": "code",
   "execution_count": 22,
   "metadata": {},
   "outputs": [],
   "source": [
    "model = tf.keras.models.Sequential([\n",
    "    tf.keras.layers.Input(shape=(8,)),\n",
    "    tf.keras.layers.Dense(10, activation='relu'),\n",
    "    tf.keras.layers.Dense(6, activation='relu'),\n",
    "    tf.keras.layers.Dense(1, activation='sigmoid')\n",
    "])"
   ]
  },
  {
   "cell_type": "code",
   "execution_count": 23,
   "metadata": {},
   "outputs": [],
   "source": [
    "model.compile(optimizer=tf.keras.optimizers.Adam(\n",
    "    learning_rate=0.001),\n",
    "             loss='binary_crossentropy',\n",
    "              metrics=['accuracy'])"
   ]
  },
  {
   "cell_type": "code",
   "execution_count": 24,
   "metadata": {},
   "outputs": [
    {
     "name": "stdout",
     "output_type": "stream",
     "text": [
      "Epoch 1/100\n",
      "165/165 [==============================] - 0s 2ms/step - loss: 0.6246 - accuracy: 0.6916 - val_loss: 0.5448 - val_accuracy: 0.7194\n",
      "Epoch 2/100\n",
      "165/165 [==============================] - 0s 720us/step - loss: 0.5269 - accuracy: 0.7405 - val_loss: 0.5096 - val_accuracy: 0.7415\n",
      "Epoch 3/100\n",
      "165/165 [==============================] - 0s 714us/step - loss: 0.5090 - accuracy: 0.7521 - val_loss: 0.4986 - val_accuracy: 0.7526\n",
      "Epoch 4/100\n",
      "165/165 [==============================] - 0s 702us/step - loss: 0.5000 - accuracy: 0.7574 - val_loss: 0.4922 - val_accuracy: 0.7571\n",
      "Epoch 5/100\n",
      "165/165 [==============================] - 0s 722us/step - loss: 0.4942 - accuracy: 0.7611 - val_loss: 0.4860 - val_accuracy: 0.7659\n",
      "Epoch 6/100\n",
      "165/165 [==============================] - 0s 774us/step - loss: 0.4897 - accuracy: 0.7651 - val_loss: 0.4816 - val_accuracy: 0.7682\n",
      "Epoch 7/100\n",
      "165/165 [==============================] - 0s 683us/step - loss: 0.4859 - accuracy: 0.7679 - val_loss: 0.4782 - val_accuracy: 0.7682\n",
      "Epoch 8/100\n",
      "165/165 [==============================] - 0s 641us/step - loss: 0.4828 - accuracy: 0.7706 - val_loss: 0.4754 - val_accuracy: 0.7732\n",
      "Epoch 9/100\n",
      "165/165 [==============================] - 0s 629us/step - loss: 0.4800 - accuracy: 0.7757 - val_loss: 0.4736 - val_accuracy: 0.7759\n",
      "Epoch 10/100\n",
      "165/165 [==============================] - 0s 635us/step - loss: 0.4777 - accuracy: 0.7772 - val_loss: 0.4709 - val_accuracy: 0.7759\n",
      "Epoch 11/100\n",
      "165/165 [==============================] - 0s 623us/step - loss: 0.4756 - accuracy: 0.7782 - val_loss: 0.4695 - val_accuracy: 0.7842\n",
      "Epoch 12/100\n",
      "165/165 [==============================] - 0s 623us/step - loss: 0.4739 - accuracy: 0.7802 - val_loss: 0.4680 - val_accuracy: 0.7831\n",
      "Epoch 13/100\n",
      "165/165 [==============================] - 0s 641us/step - loss: 0.4725 - accuracy: 0.7818 - val_loss: 0.4650 - val_accuracy: 0.7809\n",
      "Epoch 14/100\n",
      "165/165 [==============================] - 0s 683us/step - loss: 0.4708 - accuracy: 0.7819 - val_loss: 0.4630 - val_accuracy: 0.7820\n",
      "Epoch 15/100\n",
      "165/165 [==============================] - 0s 695us/step - loss: 0.4691 - accuracy: 0.7827 - val_loss: 0.4617 - val_accuracy: 0.7837\n",
      "Epoch 16/100\n",
      "165/165 [==============================] - 0s 671us/step - loss: 0.4676 - accuracy: 0.7839 - val_loss: 0.4611 - val_accuracy: 0.7870\n",
      "Epoch 17/100\n",
      "165/165 [==============================] - 0s 641us/step - loss: 0.4663 - accuracy: 0.7873 - val_loss: 0.4585 - val_accuracy: 0.7948\n",
      "Epoch 18/100\n",
      "165/165 [==============================] - 0s 643us/step - loss: 0.4652 - accuracy: 0.7883 - val_loss: 0.4572 - val_accuracy: 0.7870\n",
      "Epoch 19/100\n",
      "165/165 [==============================] - 0s 719us/step - loss: 0.4643 - accuracy: 0.7883 - val_loss: 0.4567 - val_accuracy: 0.7992\n",
      "Epoch 20/100\n",
      "165/165 [==============================] - 0s 689us/step - loss: 0.4633 - accuracy: 0.7912 - val_loss: 0.4547 - val_accuracy: 0.7970\n",
      "Epoch 21/100\n",
      "165/165 [==============================] - 0s 689us/step - loss: 0.4627 - accuracy: 0.7918 - val_loss: 0.4548 - val_accuracy: 0.7987\n",
      "Epoch 22/100\n",
      "165/165 [==============================] - 0s 701us/step - loss: 0.4615 - accuracy: 0.7932 - val_loss: 0.4532 - val_accuracy: 0.8009\n",
      "Epoch 23/100\n",
      "165/165 [==============================] - 0s 641us/step - loss: 0.4606 - accuracy: 0.7916 - val_loss: 0.4526 - val_accuracy: 0.8031\n",
      "Epoch 24/100\n",
      "165/165 [==============================] - 0s 617us/step - loss: 0.4602 - accuracy: 0.7937 - val_loss: 0.4514 - val_accuracy: 0.8031\n",
      "Epoch 25/100\n",
      "165/165 [==============================] - 0s 629us/step - loss: 0.4595 - accuracy: 0.7942 - val_loss: 0.4510 - val_accuracy: 0.8048\n",
      "Epoch 26/100\n",
      "165/165 [==============================] - 0s 677us/step - loss: 0.4590 - accuracy: 0.7955 - val_loss: 0.4502 - val_accuracy: 0.8053\n",
      "Epoch 27/100\n",
      "165/165 [==============================] - 0s 707us/step - loss: 0.4586 - accuracy: 0.7955 - val_loss: 0.4501 - val_accuracy: 0.8026\n",
      "Epoch 28/100\n",
      "165/165 [==============================] - 0s 665us/step - loss: 0.4584 - accuracy: 0.7953 - val_loss: 0.4501 - val_accuracy: 0.8042\n",
      "Epoch 29/100\n",
      "165/165 [==============================] - 0s 629us/step - loss: 0.4578 - accuracy: 0.7947 - val_loss: 0.4501 - val_accuracy: 0.8053\n",
      "Epoch 30/100\n",
      "165/165 [==============================] - 0s 641us/step - loss: 0.4574 - accuracy: 0.7970 - val_loss: 0.4493 - val_accuracy: 0.8031\n",
      "Epoch 31/100\n",
      "165/165 [==============================] - 0s 641us/step - loss: 0.4573 - accuracy: 0.7975 - val_loss: 0.4488 - val_accuracy: 0.8031\n",
      "Epoch 32/100\n",
      "165/165 [==============================] - 0s 629us/step - loss: 0.4565 - accuracy: 0.7963 - val_loss: 0.4495 - val_accuracy: 0.8059\n",
      "Epoch 33/100\n",
      "165/165 [==============================] - 0s 647us/step - loss: 0.4564 - accuracy: 0.7973 - val_loss: 0.4484 - val_accuracy: 0.8059\n",
      "Epoch 34/100\n",
      "165/165 [==============================] - 0s 707us/step - loss: 0.4564 - accuracy: 0.7975 - val_loss: 0.4485 - val_accuracy: 0.8064\n",
      "Epoch 35/100\n",
      "165/165 [==============================] - 0s 695us/step - loss: 0.4562 - accuracy: 0.7972 - val_loss: 0.4477 - val_accuracy: 0.8070\n",
      "Epoch 36/100\n",
      "165/165 [==============================] - 0s 629us/step - loss: 0.4557 - accuracy: 0.7977 - val_loss: 0.4478 - val_accuracy: 0.8026\n",
      "Epoch 37/100\n",
      "165/165 [==============================] - 0s 653us/step - loss: 0.4559 - accuracy: 0.7970 - val_loss: 0.4477 - val_accuracy: 0.8048\n",
      "Epoch 38/100\n",
      "165/165 [==============================] - 0s 689us/step - loss: 0.4552 - accuracy: 0.7987 - val_loss: 0.4475 - val_accuracy: 0.8059\n",
      "Epoch 39/100\n",
      "165/165 [==============================] - 0s 719us/step - loss: 0.4552 - accuracy: 0.7978 - val_loss: 0.4470 - val_accuracy: 0.8031\n",
      "Epoch 40/100\n",
      "165/165 [==============================] - 0s 701us/step - loss: 0.4551 - accuracy: 0.7989 - val_loss: 0.4467 - val_accuracy: 0.8075\n",
      "Epoch 41/100\n",
      "165/165 [==============================] - 0s 659us/step - loss: 0.4546 - accuracy: 0.7998 - val_loss: 0.4482 - val_accuracy: 0.8092\n",
      "Epoch 42/100\n",
      "165/165 [==============================] - 0s 647us/step - loss: 0.4545 - accuracy: 0.7985 - val_loss: 0.4466 - val_accuracy: 0.8059\n",
      "Epoch 43/100\n",
      "165/165 [==============================] - 0s 647us/step - loss: 0.4543 - accuracy: 0.7980 - val_loss: 0.4458 - val_accuracy: 0.8059\n",
      "Epoch 44/100\n",
      "165/165 [==============================] - 0s 647us/step - loss: 0.4541 - accuracy: 0.7994 - val_loss: 0.4460 - val_accuracy: 0.8075\n",
      "Epoch 45/100\n",
      "165/165 [==============================] - 0s 641us/step - loss: 0.4535 - accuracy: 0.7995 - val_loss: 0.4458 - val_accuracy: 0.8087\n",
      "Epoch 46/100\n",
      "165/165 [==============================] - 0s 623us/step - loss: 0.4538 - accuracy: 0.7986 - val_loss: 0.4467 - val_accuracy: 0.8048\n",
      "Epoch 47/100\n",
      "165/165 [==============================] - 0s 647us/step - loss: 0.4534 - accuracy: 0.7993 - val_loss: 0.4449 - val_accuracy: 0.8070\n",
      "Epoch 48/100\n",
      "165/165 [==============================] - 0s 635us/step - loss: 0.4532 - accuracy: 0.7995 - val_loss: 0.4449 - val_accuracy: 0.8048\n",
      "Epoch 49/100\n",
      "165/165 [==============================] - 0s 635us/step - loss: 0.4530 - accuracy: 0.7995 - val_loss: 0.4450 - val_accuracy: 0.8098\n",
      "Epoch 50/100\n",
      "165/165 [==============================] - 0s 623us/step - loss: 0.4523 - accuracy: 0.8003 - val_loss: 0.4473 - val_accuracy: 0.8098\n",
      "Epoch 51/100\n",
      "165/165 [==============================] - 0s 689us/step - loss: 0.4523 - accuracy: 0.7992 - val_loss: 0.4452 - val_accuracy: 0.8098\n",
      "Epoch 52/100\n",
      "165/165 [==============================] - 0s 641us/step - loss: 0.4521 - accuracy: 0.8001 - val_loss: 0.4449 - val_accuracy: 0.8053\n",
      "Epoch 53/100\n",
      "165/165 [==============================] - 0s 623us/step - loss: 0.4522 - accuracy: 0.8001 - val_loss: 0.4454 - val_accuracy: 0.8114\n",
      "Epoch 54/100\n",
      "165/165 [==============================] - 0s 641us/step - loss: 0.4518 - accuracy: 0.8008 - val_loss: 0.4448 - val_accuracy: 0.8087\n",
      "Epoch 55/100\n",
      "165/165 [==============================] - 0s 846us/step - loss: 0.4518 - accuracy: 0.7996 - val_loss: 0.4452 - val_accuracy: 0.8120\n",
      "Epoch 56/100\n",
      "165/165 [==============================] - 0s 719us/step - loss: 0.4518 - accuracy: 0.8013 - val_loss: 0.4441 - val_accuracy: 0.8070\n",
      "Epoch 57/100\n",
      "165/165 [==============================] - 0s 635us/step - loss: 0.4517 - accuracy: 0.8007 - val_loss: 0.4454 - val_accuracy: 0.8064\n",
      "Epoch 58/100\n",
      "165/165 [==============================] - 0s 633us/step - loss: 0.4512 - accuracy: 0.8012 - val_loss: 0.4443 - val_accuracy: 0.8070\n",
      "Epoch 59/100\n",
      "165/165 [==============================] - 0s 641us/step - loss: 0.4510 - accuracy: 0.8004 - val_loss: 0.4437 - val_accuracy: 0.8053\n",
      "Epoch 60/100\n",
      "165/165 [==============================] - 0s 623us/step - loss: 0.4511 - accuracy: 0.8003 - val_loss: 0.4440 - val_accuracy: 0.8053\n",
      "Epoch 61/100\n",
      "165/165 [==============================] - 0s 635us/step - loss: 0.4508 - accuracy: 0.8008 - val_loss: 0.4435 - val_accuracy: 0.8064\n",
      "Epoch 62/100\n",
      "165/165 [==============================] - 0s 629us/step - loss: 0.4508 - accuracy: 0.8005 - val_loss: 0.4437 - val_accuracy: 0.8042\n",
      "Epoch 63/100\n",
      "165/165 [==============================] - 0s 623us/step - loss: 0.4505 - accuracy: 0.8005 - val_loss: 0.4436 - val_accuracy: 0.8059\n",
      "Epoch 64/100\n",
      "165/165 [==============================] - 0s 641us/step - loss: 0.4500 - accuracy: 0.7985 - val_loss: 0.4434 - val_accuracy: 0.8098\n",
      "Epoch 65/100\n",
      "165/165 [==============================] - 0s 623us/step - loss: 0.4508 - accuracy: 0.8015 - val_loss: 0.4435 - val_accuracy: 0.8053\n",
      "Epoch 66/100\n",
      "165/165 [==============================] - 0s 623us/step - loss: 0.4502 - accuracy: 0.8013 - val_loss: 0.4439 - val_accuracy: 0.8120\n",
      "Epoch 67/100\n",
      "165/165 [==============================] - 0s 635us/step - loss: 0.4501 - accuracy: 0.8004 - val_loss: 0.4434 - val_accuracy: 0.8026\n",
      "Epoch 68/100\n",
      "165/165 [==============================] - 0s 623us/step - loss: 0.4498 - accuracy: 0.8019 - val_loss: 0.4432 - val_accuracy: 0.8042\n",
      "Epoch 69/100\n",
      "165/165 [==============================] - 0s 641us/step - loss: 0.4495 - accuracy: 0.8015 - val_loss: 0.4451 - val_accuracy: 0.8131\n",
      "Epoch 70/100\n",
      "165/165 [==============================] - 0s 666us/step - loss: 0.4495 - accuracy: 0.8010 - val_loss: 0.4437 - val_accuracy: 0.8092\n",
      "Epoch 71/100\n",
      "165/165 [==============================] - 0s 653us/step - loss: 0.4497 - accuracy: 0.8006 - val_loss: 0.4434 - val_accuracy: 0.8070\n",
      "Epoch 72/100\n",
      "165/165 [==============================] - 0s 623us/step - loss: 0.4494 - accuracy: 0.8018 - val_loss: 0.4441 - val_accuracy: 0.8114\n",
      "Epoch 73/100\n",
      "165/165 [==============================] - 0s 629us/step - loss: 0.4496 - accuracy: 0.8006 - val_loss: 0.4431 - val_accuracy: 0.8070\n",
      "Epoch 74/100\n",
      "165/165 [==============================] - 0s 677us/step - loss: 0.4492 - accuracy: 0.8008 - val_loss: 0.4432 - val_accuracy: 0.8092\n",
      "Epoch 75/100\n",
      "165/165 [==============================] - 0s 737us/step - loss: 0.4492 - accuracy: 0.8002 - val_loss: 0.4432 - val_accuracy: 0.8075\n",
      "Epoch 76/100\n",
      "165/165 [==============================] - 0s 858us/step - loss: 0.4487 - accuracy: 0.8014 - val_loss: 0.4439 - val_accuracy: 0.8075\n",
      "Epoch 77/100\n",
      "165/165 [==============================] - 0s 683us/step - loss: 0.4487 - accuracy: 0.8002 - val_loss: 0.4428 - val_accuracy: 0.8026\n",
      "Epoch 78/100\n",
      "165/165 [==============================] - 0s 707us/step - loss: 0.4485 - accuracy: 0.8006 - val_loss: 0.4423 - val_accuracy: 0.8042\n",
      "Epoch 79/100\n",
      "165/165 [==============================] - 0s 701us/step - loss: 0.4484 - accuracy: 0.7992 - val_loss: 0.4429 - val_accuracy: 0.8092\n",
      "Epoch 80/100\n",
      "165/165 [==============================] - 0s 647us/step - loss: 0.4485 - accuracy: 0.8004 - val_loss: 0.4438 - val_accuracy: 0.8059\n",
      "Epoch 81/100\n",
      "165/165 [==============================] - 0s 647us/step - loss: 0.4484 - accuracy: 0.8014 - val_loss: 0.4418 - val_accuracy: 0.8048\n",
      "Epoch 82/100\n",
      "165/165 [==============================] - 0s 641us/step - loss: 0.4483 - accuracy: 0.7999 - val_loss: 0.4421 - val_accuracy: 0.8042\n",
      "Epoch 83/100\n",
      "165/165 [==============================] - 0s 623us/step - loss: 0.4487 - accuracy: 0.8004 - val_loss: 0.4421 - val_accuracy: 0.8026\n",
      "Epoch 84/100\n",
      "165/165 [==============================] - 0s 629us/step - loss: 0.4484 - accuracy: 0.8006 - val_loss: 0.4422 - val_accuracy: 0.8042\n",
      "Epoch 85/100\n",
      "165/165 [==============================] - 0s 671us/step - loss: 0.4479 - accuracy: 0.8014 - val_loss: 0.4438 - val_accuracy: 0.8053\n",
      "Epoch 86/100\n",
      "165/165 [==============================] - 0s 725us/step - loss: 0.4478 - accuracy: 0.8002 - val_loss: 0.4418 - val_accuracy: 0.8020\n",
      "Epoch 87/100\n",
      "165/165 [==============================] - 0s 683us/step - loss: 0.4482 - accuracy: 0.8020 - val_loss: 0.4429 - val_accuracy: 0.8075\n",
      "Epoch 88/100\n",
      "165/165 [==============================] - 0s 653us/step - loss: 0.4477 - accuracy: 0.8006 - val_loss: 0.4410 - val_accuracy: 0.8059\n",
      "Epoch 89/100\n",
      "165/165 [==============================] - 0s 629us/step - loss: 0.4478 - accuracy: 0.8027 - val_loss: 0.4422 - val_accuracy: 0.8042\n",
      "Epoch 90/100\n",
      "165/165 [==============================] - 0s 629us/step - loss: 0.4473 - accuracy: 0.8015 - val_loss: 0.4415 - val_accuracy: 0.8048\n",
      "Epoch 91/100\n",
      "165/165 [==============================] - 0s 695us/step - loss: 0.4472 - accuracy: 0.8018 - val_loss: 0.4421 - val_accuracy: 0.8020\n",
      "Epoch 92/100\n",
      "165/165 [==============================] - 0s 719us/step - loss: 0.4471 - accuracy: 0.8026 - val_loss: 0.4420 - val_accuracy: 0.8064\n",
      "Epoch 93/100\n",
      "165/165 [==============================] - 0s 665us/step - loss: 0.4471 - accuracy: 0.8024 - val_loss: 0.4415 - val_accuracy: 0.8064\n",
      "Epoch 94/100\n",
      "165/165 [==============================] - 0s 653us/step - loss: 0.4467 - accuracy: 0.8023 - val_loss: 0.4417 - val_accuracy: 0.8042\n",
      "Epoch 95/100\n",
      "165/165 [==============================] - 0s 677us/step - loss: 0.4467 - accuracy: 0.8031 - val_loss: 0.4423 - val_accuracy: 0.8031\n",
      "Epoch 96/100\n",
      "165/165 [==============================] - 0s 683us/step - loss: 0.4468 - accuracy: 0.8016 - val_loss: 0.4412 - val_accuracy: 0.8048\n",
      "Epoch 97/100\n",
      "165/165 [==============================] - 0s 653us/step - loss: 0.4464 - accuracy: 0.8025 - val_loss: 0.4415 - val_accuracy: 0.8053\n",
      "Epoch 98/100\n",
      "165/165 [==============================] - 0s 653us/step - loss: 0.4465 - accuracy: 0.8020 - val_loss: 0.4411 - val_accuracy: 0.8059\n",
      "Epoch 99/100\n",
      "165/165 [==============================] - 0s 641us/step - loss: 0.4460 - accuracy: 0.8025 - val_loss: 0.4412 - val_accuracy: 0.8048\n",
      "Epoch 100/100\n",
      "165/165 [==============================] - 0s 641us/step - loss: 0.4461 - accuracy: 0.8027 - val_loss: 0.4412 - val_accuracy: 0.8053\n"
     ]
    }
   ],
   "source": [
    "m = model.fit(X_train, y_train, validation_split=0.15, epochs=60, batch_size=62)"
   ]
  },
  {
   "cell_type": "code",
   "execution_count": 26,
   "metadata": {},
   "outputs": [
    {
     "name": "stdout",
     "output_type": "stream",
     "text": [
      "94/94 [==============================] - 0s 668us/step - loss: 0.4734 - accuracy: 0.7866\n",
      "test score: [0.473352313041687, 0.7866178154945374]\n"
     ]
    }
   ],
   "source": [
    "print('test score:',model.evaluate(X_test, y_test))"
   ]
  },
  {
   "cell_type": "code",
   "execution_count": 38,
   "metadata": {},
   "outputs": [],
   "source": [
    "y_pred = model.predict(X_test)\n",
    "\n",
    "y_pred = (y_pred > 0.5)"
   ]
  },
  {
   "cell_type": "code",
   "execution_count": 43,
   "metadata": {},
   "outputs": [
    {
     "name": "stdout",
     "output_type": "stream",
     "text": [
      "[[ True]\n",
      " [ True]\n",
      " [ True]\n",
      " ...\n",
      " [ True]\n",
      " [False]\n",
      " [False]]\n"
     ]
    }
   ],
   "source": [
    "print(y_pred)"
   ]
  },
  {
   "cell_type": "code",
   "execution_count": 39,
   "metadata": {},
   "outputs": [
    {
     "name": "stdout",
     "output_type": "stream",
     "text": [
      "[[1 1]\n",
      " [1 0]\n",
      " [1 0]\n",
      " ...\n",
      " [1 0]\n",
      " [0 0]\n",
      " [0 0]]\n"
     ]
    }
   ],
   "source": [
    "print(np.concatenate((y_pred.reshape(len(y_pred),1),y_test.reshape(len(y_test),1)),1))"
   ]
  },
  {
   "cell_type": "code",
   "execution_count": 40,
   "metadata": {},
   "outputs": [
    {
     "name": "stdout",
     "output_type": "stream",
     "text": [
      "[[1114  361]\n",
      " [ 280 1249]]\n"
     ]
    },
    {
     "data": {
      "text/plain": [
       "0.7866178428761651"
      ]
     },
     "execution_count": 40,
     "metadata": {},
     "output_type": "execute_result"
    }
   ],
   "source": [
    "from sklearn.metrics import confusion_matrix, accuracy_score\n",
    "cm = confusion_matrix(y_test, y_pred)\n",
    "print(cm)\n",
    "accuracy_score(y_test, y_pred)"
   ]
  },
  {
   "cell_type": "code",
   "execution_count": 36,
   "metadata": {},
   "outputs": [
    {
     "data": {
      "text/plain": [
       "<matplotlib.legend.Legend at 0x1a6cb965850>"
      ]
     },
     "execution_count": 36,
     "metadata": {},
     "output_type": "execute_result"
    },
    {
     "data": {
      "image/png": "[encoded data removed]",
      "text/plain": [
       "<Figure size 432x288 with 1 Axes>"
      ]
     },
     "metadata": {
      "needs_background": "light"
     },
     "output_type": "display_data"
    }
   ],
   "source": [
    "plt.plot(m.history['loss'], label='loss')\n",
    "plt.plot(m.history['val_loss'],label='loss')\n",
    "plt.legend()"
   ]
  },
  {
   "cell_type": "code",
   "execution_count": 37,
   "metadata": {},
   "outputs": [
    {
     "data": {
      "text/plain": [
       "<matplotlib.legend.Legend at 0x1a6cc090a30>"
      ]
     },
     "execution_count": 37,
     "metadata": {},
     "output_type": "execute_result"
    },
    {
     "data": {
      "image/png": "[encoded data removed]",
      "text/plain": [
       "<Figure size 432x288 with 1 Axes>"
      ]
     },
     "metadata": {
      "needs_background": "light"
     },
     "output_type": "display_data"
    }
   ],
   "source": [
    "plt.plot(m.history['accuracy'],label='accu')\n",
    "plt.plot(m.history['val_accuracy'], label='val_acc')\n",
    "plt.legend()"
   ]
  },
  {
   "cell_type": "code",
   "execution_count": 42,
   "metadata": {},
   "outputs": [
    {
     "data": {
      "image/png": "[encoded data removed]",
      "text/plain": [
       "<IPython.core.display.Image object>"
      ]
     },
     "execution_count": 42,
     "metadata": {},
     "output_type": "execute_result"
    }
   ],
   "source": [
    "from keras.utils import plot_model\n",
    "\n",
    "tf.keras.utils.plot_model(model, to_file='tesnor3.png', show_shapes=True, show_layer_names=True)\n"
   ]
  },
  {
   "cell_type": "code",
   "execution_count": null,
   "metadata": {},
   "outputs": [],
   "source": []
  }
 ],
 "metadata": {
  "kernelspec": {
   "display_name": "Python 3",
   "language": "python",
   "name": "python3"
  },
  "language_info": {
   "codemirror_mode": {
    "name": "ipython",
    "version": 3
   },
   "file_extension": ".py",
   "mimetype": "text/x-python",
   "name": "python",
   "nbconvert_exporter": "python",
   "pygments_lexer": "ipython3",
   "version": "3.8.3"
  }
 },
 "nbformat": 4,
 "nbformat_minor": 4
}
